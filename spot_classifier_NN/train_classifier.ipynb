{
 "cells": [
  {
   "cell_type": "code",
   "execution_count": 1,
   "metadata": {},
   "outputs": [
    {
     "name": "stdout",
     "output_type": "stream",
     "text": [
      "has cuda: False\n",
      "Pickle file: run_statistics_spot_detection_lr-0.01_seed-7single.pickle\n"
     ]
    }
   ],
   "source": [
    "import os,sys\n",
    "try:\n",
    "    import this_is_root\n",
    "except:\n",
    "    os.chdir(os.path.pardir) # change workdir to be root dir\n",
    "    sys.path.insert(0, os.path.realpath(\".\"))\n",
    "    \n",
    "import train_classifier\n",
    "\n",
    "train_classifier.train_valid_loop(num_channels=3, batch_size=3000, Nepochs=201,\n",
    "                    learning_rate=1e-2, my_seed=7, add_name_str='single')\n",
    "train_classifier.train_valid_loop(num_channels=2, batch_size=3000, Nepochs=201,\n",
    "                    learning_rate=1e-2, my_seed=7, add_name_str='single')\n",
    "train_classifier.train_valid_loop(num_channels=1, batch_size=3000, Nepochs=201,\n",
    "                    learning_rate=1e-2, my_seed=7, add_name_str='single')"
   ]
  }
 ],
 "metadata": {
  "kernelspec": {
   "display_name": "Python 3",
   "language": "python",
   "name": "python3"
  },
  "language_info": {
   "codemirror_mode": {
    "name": "ipython",
    "version": 3
   },
   "file_extension": ".py",
   "mimetype": "text/x-python",
   "name": "python",
   "nbconvert_exporter": "python",
   "pygments_lexer": "ipython3",
   "version": "3.11.3"
  },
  "orig_nbformat": 4
 },
 "nbformat": 4,
 "nbformat_minor": 2
}
