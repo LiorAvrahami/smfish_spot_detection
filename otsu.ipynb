{
 "cells": [
  {
   "cell_type": "code",
   "execution_count": null,
   "metadata": {},
   "outputs": [],
   "source": [
    "import numpy as np\n",
    "import pandas as pd\n",
    "import matplotlib.pyplot as plt\n",
    "from image_loader.load_tagged_image import load_tagged_image, convert_image_file_to_numpy, load_tagged_points_only\n",
    "import os\n",
    "import Global_Constants\n",
    "import tqdm\n",
    "import scipy.io\n",
    "import skimage"
   ]
  },
  {
   "cell_type": "code",
   "execution_count": null,
   "metadata": {},
   "outputs": [],
   "source": [
    "def otsu():\n",
    "    "
   ]
  },
  {
   "cell_type": "code",
   "execution_count": null,
   "metadata": {},
   "outputs": [],
   "source": [
    "image = convert_image_file_to_numpy(\"images\\\\tagged_images\\img4\\image.tif\")\n",
    "points_of_interest = np.full(image.shape[:-1],False)\n",
    "for ch_index in range(image.shape[3]):\n",
    "    im = image[:, :, :, ch_index]\n",
    "    im_after_gl = scipy.ndimage.gaussian_laplace(im,sigma=1,mode=\"mirror\")*(-1)\n",
    "    cutoff_val_otsu = skimage.filters.threshold_otsu(im_after_gl.flatten())\n",
    "    cutoff_val_95 = np.quantile(im_after_gl.flatten(),0.95)\n",
    "    points_of_interest[im_after_gl > cutoff_val] = True\n",
    "    plt.figure()\n",
    "    plt.imshow(np.max(im,axis=-1),cmap=\"gray\")\n",
    "    plt.figure()\n",
    "    plt.title(\"laplacian of gaussian\")\n",
    "    plt.imshow(np.max(im_after_gl,axis=-1),cmap=\"gray\")\n",
    "    plt.figure()\n",
    "    plt.imshow(np.max(im_after_gl,axis=-1),cmap=\"gray\")\n",
    "    plt.imshow(np.max(im_after_gl > cutoff_val_otsu, axis=-1),cmap=\"Reds\",alpha=0.2)\n",
    "    plt.title(\"otsu\")\n",
    "    plt.figure()\n",
    "    plt.imshow(np.max(im_after_gl,axis=-1),cmap=\"gray\")\n",
    "    plt.imshow(np.max(im_after_gl > cutoff_val_95, axis=-1),cmap=\"Reds\",alpha=0.2)\n",
    "    plt.title(\"95%\")\n",
    "    plt.colorbar()"
   ]
  }
 ],
 "metadata": {
  "kernelspec": {
   "display_name": "Python 3",
   "language": "python",
   "name": "python3"
  },
  "language_info": {
   "codemirror_mode": {
    "name": "ipython",
    "version": 3
   },
   "file_extension": ".py",
   "mimetype": "text/x-python",
   "name": "python",
   "nbconvert_exporter": "python",
   "pygments_lexer": "ipython3",
   "version": "3.10.1"
  },
  "orig_nbformat": 4
 },
 "nbformat": 4,
 "nbformat_minor": 2
}
