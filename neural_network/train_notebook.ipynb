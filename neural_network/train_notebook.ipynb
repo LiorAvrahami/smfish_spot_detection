{
 "cells": [
  {
   "cell_type": "code",
   "execution_count": 1,
   "metadata": {},
   "outputs": [
    {
     "name": "stderr",
     "output_type": "stream",
     "text": [
      "c:\\Users\\talbarka.WISMAIN\\Anaconda3\\lib\\site-packages\\scipy\\__init__.py:155: UserWarning: A NumPy version >=1.18.5 and <1.25.0 is required for this version of SciPy (detected version 1.25.1\n",
      "  warnings.warn(f\"A NumPy version >={np_minversion} and <{np_maxversion}\"\n",
      "c:\\Users\\talbarka.WISMAIN\\Anaconda3\\lib\\site-packages\\paramiko\\transport.py:219: CryptographyDeprecationWarning: Blowfish has been deprecated\n",
      "  \"class\": algorithms.Blowfish,\n"
     ]
    },
    {
     "name": "stdout",
     "output_type": "stream",
     "text": [
      "has cuda: True\n"
     ]
    }
   ],
   "source": [
    "\n",
    "import numpy as np\n",
    "import numpy.typing as npt\n",
    "\n",
    "import torch\n",
    "from sklearn.model_selection import train_test_split\n",
    "from torch.utils.data import Dataset, DataLoader\n",
    "from matplotlib.gridspec import GridSpec, GridSpecFromSubplotSpec\n",
    "\n",
    "import matplotlib.pyplot as plt\n",
    "import torch.nn.functional as func\n",
    "from tqdm.notebook import tqdm\n",
    "from PIL import Image\n",
    "import gc\n",
    "import torch.optim as optim\n",
    "import pickle\n",
    "import datetime \n",
    "\n",
    "import os,sys\n",
    "try:\n",
    "    import this_is_root\n",
    "except:\n",
    "    os.chdir(os.path.pardir) # change workdir to be root dir\n",
    "    sys.path.insert(0, os.path.realpath(\".\"))\n",
    "\n",
    "import create_training_data.training_data_generator\n",
    "import neural_network.train_classifier as tc\n",
    "torch.cuda.is_available()\n",
    "np.random.seed(0)"
   ]
  },
  {
   "cell_type": "code",
   "execution_count": 2,
   "metadata": {},
   "outputs": [
    {
     "name": "stdout",
     "output_type": "stream",
     "text": [
      "Found GPU!\n",
      "Pickle file: run_statistics_spot_detection_lr-0.001_seed-7single.pickle\n",
      "Epoch:  0 ( 0.00 %) Train loss:  0.722673237323761  Valid loss:  0.7202416658401489\n",
      "Epoch:  100 ( 49.75 %) Train loss:  0.6917950510978699  Valid loss:  0.6931471824645996\n",
      "Epoch:  200 ( 99.50 %) Train loss:  0.6562972664833069  Valid loss:  0.6751018166542053\n"
     ]
    },
    {
     "data": {
      "text/plain": [
       "spots_classifier_net(\n",
       "  (model): Sequential(\n",
       "    (conv1-1): Conv3d(3, 10, kernel_size=(3, 3, 3), stride=(1, 1, 1), padding=same)\n",
       "    (relu1-1): ReLU()\n",
       "    (conv1-2): Conv3d(10, 10, kernel_size=(3, 3, 3), stride=(1, 1, 1), padding=same)\n",
       "    (relu1-2): ReLU()\n",
       "    (drop1): Dropout(p=0.15, inplace=False)\n",
       "    (conv2-1): Conv3d(10, 10, kernel_size=(3, 3, 3), stride=(1, 1, 1), padding=same)\n",
       "    (relu2-1): ReLU()\n",
       "    (conv2-2): Conv3d(10, 10, kernel_size=(3, 3, 3), stride=(1, 1, 1), padding=same)\n",
       "    (relu2-2): ReLU()\n",
       "    (drop2): Dropout(p=0.15, inplace=False)\n",
       "    (max_pool1): MaxPool3d(kernel_size=2, stride=2, padding=0, dilation=1, ceil_mode=False)\n",
       "    (batch_norm_1): BatchNorm3d(10, eps=1e-05, momentum=0.1, affine=True, track_running_stats=True)\n",
       "    (conv3-1): Conv3d(10, 10, kernel_size=(3, 3, 3), stride=(1, 1, 1), padding=same)\n",
       "    (relu3-1): ReLU()\n",
       "    (conv3-2): Conv3d(10, 10, kernel_size=(3, 3, 3), stride=(1, 1, 1), padding=same)\n",
       "    (relu3-2): ReLU()\n",
       "    (drop3): Dropout(p=0.15, inplace=False)\n",
       "    (flatten): Flatten(start_dim=1, end_dim=-1)\n",
       "    (fcn1): Linear(in_features=1250, out_features=100, bias=True)\n",
       "    (relu4-1): ReLU()\n",
       "    (fcn2): Linear(in_features=100, out_features=100, bias=True)\n",
       "    (relu4-2): ReLU()\n",
       "    (fcn3): Linear(in_features=100, out_features=1, bias=True)\n",
       "    (sigmoid): Sigmoid()\n",
       "    (flatten2): Flatten(start_dim=0, end_dim=-1)\n",
       "  )\n",
       ")"
      ]
     },
     "execution_count": 2,
     "metadata": {},
     "output_type": "execute_result"
    }
   ],
   "source": [
    "mynet = tc.train_valid_loop(batch_size=3000, Nepochs=201,\n",
    "                         learning_rate=1e-3, save_model_interval=200,\n",
    "                         my_seed=7, add_name_str='single')"
   ]
  },
  {
   "cell_type": "code",
   "execution_count": 3,
   "metadata": {},
   "outputs": [
    {
     "data": {
      "application/vnd.jupyter.widget-view+json": {
       "model_id": "58280928224943c8b0df41bcf82e1156",
       "version_major": 2,
       "version_minor": 0
      },
      "text/plain": [
       "  0%|          | 0/3 [00:00<?, ?it/s]"
      ]
     },
     "metadata": {},
     "output_type": "display_data"
    },
    {
     "name": "stdout",
     "output_type": "stream",
     "text": [
      "Found GPU!\n",
      "Pickle file: run_statistics_spot_detection_lr-0.01_seed-0_batchsize-20.pickle\n",
      "Epoch:  0 ( 0.00 %) Train loss:  0.7258890271186829  Valid loss:  0.6934879422187805\n",
      "Epoch:  100 ( 49.75 %) Train loss:  0.6931471824645996  Valid loss:  0.6931471824645996\n",
      "Epoch:  200 ( 99.50 %) Train loss:  0.6931471824645996  Valid loss:  0.6931471824645996\n",
      "Found GPU!\n",
      "Pickle file: run_statistics_spot_detection_lr-0.01_seed-7_batchsize-20.pickle\n",
      "Epoch:  0 ( 0.00 %) Train loss:  0.7229377627372742  Valid loss:  0.6931433081626892\n",
      "Epoch:  100 ( 49.75 %) Train loss:  0.6931471824645996  Valid loss:  0.6931471824645996\n",
      "Epoch:  200 ( 99.50 %) Train loss:  0.6931471824645996  Valid loss:  0.6931471824645996\n",
      "Found GPU!\n",
      "Pickle file: run_statistics_spot_detection_lr-0.01_seed-0_batchsize-200.pickle\n",
      "Epoch:  0 ( 0.00 %) Train loss:  0.725742757320404  Valid loss:  0.6931480169296265\n",
      "Epoch:  100 ( 49.75 %) Train loss:  0.6931471824645996  Valid loss:  0.6931471824645996\n",
      "Epoch:  200 ( 99.50 %) Train loss:  0.6931471824645996  Valid loss:  0.6931471824645996\n",
      "Found GPU!\n",
      "Pickle file: run_statistics_spot_detection_lr-0.01_seed-7_batchsize-200.pickle\n",
      "Epoch:  0 ( 0.00 %) Train loss:  0.7229669690132141  Valid loss:  0.6931471824645996\n",
      "Epoch:  100 ( 49.75 %) Train loss:  0.6931471824645996  Valid loss:  0.6931471824645996\n",
      "Epoch:  200 ( 99.50 %) Train loss:  0.6931471824645996  Valid loss:  0.6931471824645996\n",
      "Found GPU!\n",
      "Pickle file: run_statistics_spot_detection_lr-0.01_seed-0_batchsize-500.pickle\n",
      "Epoch:  0 ( 0.00 %) Train loss:  0.7257908582687378  Valid loss:  0.6931471824645996\n",
      "Epoch:  100 ( 49.75 %) Train loss:  0.6931472420692444  Valid loss:  0.6931471824645996\n",
      "Epoch:  200 ( 99.50 %) Train loss:  0.6931472420692444  Valid loss:  0.6931471824645996\n",
      "Found GPU!\n",
      "Pickle file: run_statistics_spot_detection_lr-0.01_seed-7_batchsize-500.pickle\n",
      "Epoch:  0 ( 0.00 %) Train loss:  0.7230290770530701  Valid loss:  0.6931471824645996\n",
      "Epoch:  100 ( 49.75 %) Train loss:  0.6931472420692444  Valid loss:  0.6931471824645996\n",
      "Epoch:  200 ( 99.50 %) Train loss:  0.6931472420692444  Valid loss:  0.6931471824645996\n",
      "Found GPU!\n",
      "Pickle file: run_statistics_spot_detection_lr-0.01_seed-0_batchsize-1000.pickle\n",
      "Epoch:  0 ( 0.00 %) Train loss:  0.7257596850395203  Valid loss:  0.6931471824645996\n",
      "Epoch:  100 ( 49.75 %) Train loss:  0.6931472420692444  Valid loss:  0.6931471824645996\n",
      "Epoch:  200 ( 99.50 %) Train loss:  0.6931472420692444  Valid loss:  0.6931471824645996\n",
      "Found GPU!\n",
      "Pickle file: run_statistics_spot_detection_lr-0.01_seed-7_batchsize-1000.pickle\n",
      "Epoch:  0 ( 0.00 %) Train loss:  0.7230113744735718  Valid loss:  0.6931471824645996\n",
      "Epoch:  100 ( 49.75 %) Train loss:  0.6931472420692444  Valid loss:  0.6931471824645996\n"
     ]
    },
    {
     "ename": "KeyboardInterrupt",
     "evalue": "",
     "output_type": "error",
     "traceback": [
      "\u001b[1;31m---------------------------------------------------------------------------\u001b[0m",
      "\u001b[1;31mKeyboardInterrupt\u001b[0m                         Traceback (most recent call last)",
      "Cell \u001b[1;32mIn[3], line 5\u001b[0m\n\u001b[0;32m      3\u001b[0m \u001b[39mfor\u001b[39;00m my_batch_size \u001b[39min\u001b[39;00m [\u001b[39m20\u001b[39m, \u001b[39m200\u001b[39m, \u001b[39m500\u001b[39m, \u001b[39m1000\u001b[39m]:\n\u001b[0;32m      4\u001b[0m     \u001b[39mfor\u001b[39;00m my_seed \u001b[39min\u001b[39;00m [\u001b[39m0\u001b[39m, \u001b[39m7\u001b[39m]:\n\u001b[1;32m----> 5\u001b[0m         mynet \u001b[39m=\u001b[39m tc\u001b[39m.\u001b[39;49mtrain_valid_loop(batch_size\u001b[39m=\u001b[39;49mmy_batch_size, Nepochs\u001b[39m=\u001b[39;49mepochs_count\u001b[39m+\u001b[39;49m\u001b[39m1\u001b[39;49m, learning_rate\u001b[39m=\u001b[39;49mlr, save_model_interval\u001b[39m=\u001b[39;49mepochs_count, my_seed\u001b[39m=\u001b[39;49mmy_seed, add_name_str\u001b[39m=\u001b[39;49m\u001b[39m'\u001b[39;49m\u001b[39m_batchsize-\u001b[39;49m\u001b[39m'\u001b[39;49m\u001b[39m+\u001b[39;49m\u001b[39mstr\u001b[39;49m(my_batch_size))\n\u001b[0;32m      6\u001b[0m         params_str \u001b[39m=\u001b[39m \u001b[39m\"\u001b[39m\u001b[39m_lr-\u001b[39m\u001b[39m\"\u001b[39m\u001b[39m+\u001b[39m\u001b[39mstr\u001b[39m(lr)\u001b[39m+\u001b[39m\u001b[39m\"\u001b[39m\u001b[39m_batch-\u001b[39m\u001b[39m\"\u001b[39m\u001b[39m+\u001b[39m\u001b[39mstr\u001b[39m(my_batch_size)\u001b[39m+\u001b[39m\u001b[39m\"\u001b[39m\u001b[39m_seed-\u001b[39m\u001b[39m\"\u001b[39m\u001b[39m+\u001b[39m\u001b[39mstr\u001b[39m(my_seed)\n\u001b[0;32m      7\u001b[0m         torch\u001b[39m.\u001b[39msave(mynet\u001b[39m.\u001b[39mstate_dict(), \u001b[39m'\u001b[39m\u001b[39mparameter_sweed_classifier_model_\u001b[39m\u001b[39m'\u001b[39m\u001b[39m+\u001b[39mparams_str\u001b[39m+\u001b[39m\u001b[39m'\u001b[39m\u001b[39m.pt\u001b[39m\u001b[39m'\u001b[39m)\n",
      "File \u001b[1;32m\\\\isi.storwis.weizmann.ac.il\\labs\\shalevi\\talbarka\\FGS\\PracticaleML\\smfish_spot_detection\\neural_network\\train_classifier.py:123\u001b[0m, in \u001b[0;36mtrain_valid_loop\u001b[1;34m(Nepochs, learning_rate, batch_size, save_model_interval, epoch_report_interval, my_seed, add_name_str)\u001b[0m\n\u001b[0;32m    121\u001b[0m pred \u001b[39m=\u001b[39m net(xb)  \u001b[39m# pass the input through the net to get the prediction\u001b[39;00m\n\u001b[0;32m    122\u001b[0m loss \u001b[39m=\u001b[39m loss_function(pred, yb)  \u001b[39m# use the MSE loss between the prediction and the target\u001b[39;00m\n\u001b[1;32m--> 123\u001b[0m loss\u001b[39m.\u001b[39mbackward()\n\u001b[0;32m    125\u001b[0m optimizer\u001b[39m.\u001b[39mstep()  \u001b[39m# optimizer step in the direction of negative gradient\u001b[39;00m\n\u001b[0;32m    127\u001b[0m pred \u001b[39m=\u001b[39m pred\u001b[39m.\u001b[39mcpu()\n",
      "\u001b[1;31mKeyboardInterrupt\u001b[0m: "
     ]
    }
   ],
   "source": [
    "epochs_count = 200\n",
    "for lr in tqdm([0.01, 0.001, 0.0001]):\n",
    "    for my_batch_size in [20, 200, 500, 1000]:\n",
    "        for my_seed in [0, 7]:\n",
    "            mynet = tc.train_valid_loop(batch_size=my_batch_size, Nepochs=epochs_count+1, learning_rate=lr, save_model_interval=epochs_count, my_seed=my_seed, add_name_str='_batchsize-'+str(my_batch_size))\n",
    "            params_str = \"_lr-\"+str(lr)+\"_batch-\"+str(my_batch_size)+\"_seed-\"+str(my_seed)\n",
    "            torch.save(mynet.state_dict(), 'parameter_sweed_classifier_model_'+params_str+'.pt')\n"
   ]
  }
 ],
 "metadata": {
  "kernelspec": {
   "display_name": "base",
   "language": "python",
   "name": "python3"
  },
  "language_info": {
   "codemirror_mode": {
    "name": "ipython",
    "version": 3
   },
   "file_extension": ".py",
   "mimetype": "text/x-python",
   "name": "python",
   "nbconvert_exporter": "python",
   "pygments_lexer": "ipython3",
   "version": "3.9.12"
  },
  "orig_nbformat": 4
 },
 "nbformat": 4,
 "nbformat_minor": 2
}
