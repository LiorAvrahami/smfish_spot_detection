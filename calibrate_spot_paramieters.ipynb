{
 "cells": [
  {
   "cell_type": "code",
   "execution_count": null,
   "metadata": {},
   "outputs": [],
   "source": [
    "import numpy as np\n",
    "import pandas as pd\n",
    "import matplotlib.pyplot as plt\n",
    "from image_loader.load_tagged_image import load_tagged_image, convert_image_file_to_numpy, load_tagged_points_only\n",
    "import os\n",
    "import Global_Constants\n",
    "import tqdm\n",
    "import scipy.io"
   ]
  },
  {
   "attachments": {},
   "cell_type": "markdown",
   "metadata": {},
   "source": [
    "Load The Images and tag locations"
   ]
  },
  {
   "cell_type": "code",
   "execution_count": null,
   "metadata": {},
   "outputs": [],
   "source": [
    "# the minimal distance between tagged points that we allow\n",
    "minimal_distance_between_tagged_points = 5\n",
    "images = []\n",
    "tagged = []\n",
    "def load_images(normalization_quantiles=None):\n",
    "    global images, tagged\n",
    "    images = []\n",
    "    tagged = []\n",
    "    images_dir = \"images\\\\tagged_images\"\n",
    "    for dir_name in tqdm.tqdm(os.listdir(images_dir)):\n",
    "        dir_path = os.path.join(images_dir,dir_name)\n",
    "        im,tags = load_tagged_image(dir_path,normalization_quantiles)\n",
    "        \n",
    "        # remove tagged points that are to close to one another\n",
    "        x_matrix = np.stack([tags[:,0] for i in range(tags.shape[0])]).astype(float)\n",
    "        y_matrix = np.stack([tags[:,1] for i in range(tags.shape[0])]).astype(float)\n",
    "        z_matrix = np.stack([tags[:,2] for i in range(tags.shape[0])]).astype(float)\n",
    "        dx_matrix = x_matrix-x_matrix.T\n",
    "        dy_matrix = y_matrix-y_matrix.T\n",
    "        dz_matrix = 2*(z_matrix-z_matrix.T)\n",
    "        dist_matrix = np.sqrt(dx_matrix**2 + dy_matrix**2 + dz_matrix**2)\n",
    "        dist_matrix[dist_matrix == 0] = 10000\n",
    "        dist_min = np.min(dist_matrix,axis=0)\n",
    "        # plt.hist(dist_min.flatten(),bins=np.linspace(0,10),alpha=0.4,label=dir_name)\n",
    "        tags = tags[dist_min >= minimal_distance_between_tagged_points]\n",
    "        \n",
    "        images.append(im)\n",
    "        tagged.append(tags)\n",
    "load_images()\n"
   ]
  },
  {
   "attachments": {},
   "cell_type": "markdown",
   "metadata": {},
   "source": [
    "Draw tha images and tagged data, z is projected via maximum on z, only the chanel with the data is drawn."
   ]
  },
  {
   "cell_type": "code",
   "execution_count": null,
   "metadata": {},
   "outputs": [],
   "source": [
    "for i in range(len(images)):\n",
    "    plt.figure()\n",
    "    ch = int(tagged[i][3,3])\n",
    "    plt.imshow(np.max(images[i][:,:,:,ch],axis=-1),vmin=-3,vmax=2,cmap=\"gray\")\n",
    "    plt.plot(tagged[i][:,0],tagged[i][:,1],\".r\",alpha=0.2)\n",
    "    plt.title(f\"channel={ch}\")"
   ]
  },
  {
   "attachments": {},
   "cell_type": "markdown",
   "metadata": {},
   "source": [
    "Find Dot Parameters/Moments"
   ]
  },
  {
   "cell_type": "code",
   "execution_count": null,
   "metadata": {},
   "outputs": [],
   "source": [
    "def get_small_images_around_points(image_index,z_span=1,xy_span=5, assert_size=True):\n",
    "    sml_imges = []\n",
    "    sml_imges_point_loc = []\n",
    "    for pt_idx,point in enumerate(tagged[image_index]):\n",
    "        im = images[image_index]\n",
    "        sml_img = im[\n",
    "                int(round(point[1])) - xy_span:int(round(point[1])) + xy_span + 1,\n",
    "                int(round(point[0])) - xy_span:int(round(point[0])) + xy_span + 1,\n",
    "                int(point[2]) - z_span:int(point[2]) + z_span + 1,\n",
    "                int(point[3])\n",
    "                    ]\n",
    "        if assert_size :\n",
    "            if sml_img.shape != (xy_span*2+1,xy_span*2+1,z_span*2+1):\n",
    "                continue\n",
    "        else:\n",
    "            if np.size(sml_img) == 0:\n",
    "                continue\n",
    "        sml_imges.append(sml_img)\n",
    "        sml_imges_point_loc.append((\n",
    "        point[1] - (int(round(point[1])) - xy_span),\n",
    "        point[0] - (int(round(point[0])) - xy_span)))\n",
    "    return sml_imges,sml_imges_point_loc"
   ]
  },
  {
   "cell_type": "code",
   "execution_count": null,
   "metadata": {},
   "outputs": [],
   "source": [
    "z_span = 1\n",
    "xy_span = 5\n",
    "for i in range(1,5):\n",
    "    plt.figure()\n",
    "    dir_path = f\"images\\\\tagged_images\\\\img{i}\"\n",
    "    original_big_image_file_path = os.path.join(dir_path, \"OG_Big_Image.nd2\")\n",
    "    image_file_path = os.path.join(dir_path, \"image.tif\")\n",
    "    tagged_points_path = os.path.join(dir_path, \"Results.csv\")\n",
    "    \n",
    "    tagged_points = load_tagged_points_only(tagged_points_path)\n",
    "    image_array = convert_image_file_to_numpy(image_file_path)\n",
    "    original_big_image_array = convert_image_file_to_numpy(original_big_image_file_path)\n",
    "    \n",
    "    sml_imges = []\n",
    "    sml_imges_point_loc = []\n",
    "    for pt_idx,point in enumerate(tagged_points):\n",
    "        im = image_array\n",
    "        sml_img = im[\n",
    "                int(round(point[1])) - xy_span:int(round(point[1])) + xy_span + 1,\n",
    "                int(round(point[0])) - xy_span:int(round(point[0])) + xy_span + 1,\n",
    "                int(point[2]) - z_span:int(point[2]) + z_span + 1,\n",
    "                int(point[3])\n",
    "                    ]\n",
    "        if sml_img.shape != (xy_span*2+1,xy_span*2+1,z_span*2+1):\n",
    "            continue\n",
    "        sml_imges.append(sml_img)\n",
    "        sml_imges_point_loc.append((\n",
    "        point[1] - (int(round(point[1])) - xy_span),\n",
    "        point[0] - (int(round(point[0])) - xy_span)))\n",
    "    sml_imges = np.array(sml_imges)\n",
    "\n",
    "    intensity = []\n",
    "    background_intensity_around_points = []\n",
    "    for sml_img in sml_imges:\n",
    "        x,y,z = sml_img.shape[0]//2,sml_img.shape[1]//2,sml_img.shape[2]//2\n",
    "        spot_region = sml_img[x-1:x+2,y-1:y+2,z-1:z+2]\n",
    "        not_background_region = sml_img[x-2:x+3,y-2:y+3,z-2:z+3]\n",
    "        spot_intensity = np.max(spot_region)\n",
    "        background_intensity = (np.sum(sml_img) - np.sum(not_background_region)) / (np.size(sml_img)-np.size(not_background_region))\n",
    "        intensity.append(spot_intensity)\n",
    "        background_intensity_around_points.append(background_intensity)\n",
    "    \n",
    "    ch = int(tagged_points[3,3])\n",
    "    plt.hist(original_big_image_array[...,ch].flatten(),bins=1000,density=True)\n",
    "    plt.hist(image_array[...,ch].flatten(),bins=100,density=True,alpha=0.5)\n",
    "    plt.hist(intensity,bins=10,alpha=0.5,density=True)\n",
    "    plt.hist(background_intensity_around_points,bins=10,alpha=0.5,density=True)\n",
    "    for alpha in [5,10,20]:\n",
    "        color = next(plt.gca()._get_lines.prop_cycler)\n",
    "        plt.vlines(np.percentile(original_big_image_array[...,ch].flatten(),(alpha,100-alpha)),-1,100,label=f\"alpha={alpha:.3f}%\",**color)\n",
    "    plt.xlim(0,10100)\n",
    "    plt.ylim(-0.00007,0.0015)\n",
    "    plt.legend()"
   ]
  },
  {
   "attachments": {},
   "cell_type": "markdown",
   "metadata": {},
   "source": [
    "Find Dot Intencity Distribution"
   ]
  },
  {
   "cell_type": "code",
   "execution_count": null,
   "metadata": {},
   "outputs": [],
   "source": [
    "def draw_histograms_of_intensities(b_draw_slices = True,title=\"\"):\n",
    "    z_span = 1\n",
    "    xy_span = 5\n",
    "    hist_residual_fig = plt.figure()\n",
    "    hist_residual_ax = hist_residual_fig.gca()\n",
    "    hist_nominal_fig = plt.figure()\n",
    "    hist_nominal_ax = hist_nominal_fig.gca()\n",
    "    residual_intensity_arrays = []\n",
    "    for i in range(len(images)):\n",
    "        # sml_imges = np.full((tagged[i].shape[0],10,10,4),np.nan)\n",
    "        sml_imges,sml_imges_point_loc = get_small_images_around_points(image_index=i,z_span=z_span,xy_span=xy_span)\n",
    "\n",
    "        intensity = []\n",
    "        residual_intensity = []\n",
    "        for sml_img in sml_imges:\n",
    "            x,y,z = sml_img.shape[0]//2,sml_img.shape[1]//2,sml_img.shape[2]//2\n",
    "            spot_region = sml_img[x-1:x+2,y-1:y+2,z-1:z+2]\n",
    "            not_background_region = sml_img[x-2:x+3,y-2:y+3,z-2:z+3]\n",
    "            spot_intensity = np.max(spot_region)\n",
    "            background_intensity = (np.sum(sml_img) - np.sum(not_background_region)) / (np.size(sml_img)-np.size(not_background_region))\n",
    "            intensity.append(spot_intensity)\n",
    "            residual_intensity.append(spot_intensity - background_intensity)\n",
    "        residual_intensity_arrays.append(residual_intensity)\n",
    "        color = next(hist_residual_ax._get_lines.prop_cycler)\n",
    "        hist_residual_ax.hist(residual_intensity,bins=5,alpha=0.5,**color, label=f\"{i}\",density=True)\n",
    "        hist_residual_ax.plot(residual_intensity,[-i*0.0001]*len(residual_intensity),marker=\"o\",linestyle=\"\",**color)\n",
    "        color = next(hist_nominal_ax._get_lines.prop_cycler)\n",
    "        hist_nominal_ax.hist(intensity,bins=5,alpha=0.5,**color, label=f\"{i}\",density=True)\n",
    "        hist_nominal_ax.plot(intensity,[-i*0.0001]*len(intensity),marker=\"o\",linestyle=\"\",**color)\n",
    "        \n",
    "\n",
    "        if b_draw_slices:\n",
    "            _,axes = plt.subplots(3,8)\n",
    "            axes = axes.flatten()\n",
    "            for j in range(len(axes)):\n",
    "                try:\n",
    "                    axes[j].imshow(np.max(sml_imges[j],axis=-1),vmax=2,vmin=-3,cmap=\"gray\")\n",
    "                    axes[j].plot(sml_imges_point_loc[j][0],sml_imges_point_loc[j][1],\"xr\",alpha=0.5)\n",
    "                    \n",
    "                except:\n",
    "                    pass\n",
    "    \n",
    "    hist_nominal_ax.legend()\n",
    "    hist_nominal_ax.set_title(\"total intensity, \" + title)\n",
    "    hist_residual_ax.legend()\n",
    "    hist_residual_ax.set_title(\"residual intensity, \" + title)\n",
    "    return hist_residual_fig, hist_nominal_fig, residual_intensity_arrays"
   ]
  },
  {
   "cell_type": "code",
   "execution_count": null,
   "metadata": {},
   "outputs": [],
   "source": [
    "_,_,residual_intensity_arrays = draw_histograms_of_intensities(b_draw_slices = True,title=\"No Normalization\")\n",
    "plt.figure()\n",
    "a = []\n",
    "for b in residual_intensity_arrays:\n",
    "    a += b\n",
    "plt.hist(np.array(a).flatten())"
   ]
  },
  {
   "attachments": {},
   "cell_type": "markdown",
   "metadata": {},
   "source": [
    "Find Best Alpha For Normalization"
   ]
  },
  {
   "cell_type": "code",
   "execution_count": null,
   "metadata": {},
   "outputs": [],
   "source": [
    "if False:\n",
    "    for i,alpha in tqdm.tqdm(enumerate(np.linspace(0.01,0.4,40))):\n",
    "        normalization_quantiles = (alpha, 1 - alpha)\n",
    "        load_images(normalization_quantiles)\n",
    "        fig1,fig2,_ = draw_histograms_of_intensities(False,title=f\"alpha={alpha:.3f}\")\n",
    "        try:\n",
    "            os.mkdir(\"figures\")\n",
    "        except:\n",
    "            pass\n",
    "        fig1.savefig(f\"figures1\\\\{i:03d}.png\")\n",
    "        fig2.savefig(f\"figures2\\\\{i:03d}.png\")"
   ]
  },
  {
   "attachments": {},
   "cell_type": "markdown",
   "metadata": {},
   "source": [
    "Filter Out Tagged Points Who's COM of their surrounding region is very far from the tagged point"
   ]
  },
  {
   "cell_type": "code",
   "execution_count": null,
   "metadata": {},
   "outputs": [],
   "source": [
    "def get_image_center_of_mass(sml_img):\n",
    "    sml_img_normed = np.copy(sml_img)\n",
    "    sml_img_normed -= np.quantile(sml_img_normed,0.05)\n",
    "    sml_img_normed[sml_img_normed < 0] = 0\n",
    "    sml_img_normed = sml_img_normed**4\n",
    "    sml_img_normed /= np.mean(sml_img_normed)\n",
    "    mean_sml_img = np.mean(sml_img_normed)\n",
    "    x,y,z = np.meshgrid(np.arange(sml_img_normed.shape[0]),np.arange(sml_img_normed.shape[1]),np.arange(sml_img_normed.shape[2]),indexing=\"ij\")\n",
    "    xm,ym,zm = np.mean(sml_img_normed*x)/mean_sml_img,np.mean(sml_img_normed*y)/mean_sml_img,np.mean(sml_img_normed*z)/mean_sml_img\n",
    "    return xm,ym,zm, sml_img_normed"
   ]
  },
  {
   "attachments": {},
   "cell_type": "markdown",
   "metadata": {},
   "source": [
    "Export images of spots to matlab file"
   ]
  },
  {
   "cell_type": "code",
   "execution_count": null,
   "metadata": {},
   "outputs": [],
   "source": [
    "z_span = 2\n",
    "xy_span = 25\n",
    "spot_max_delta_xy = 2\n",
    "spot_max_delta_z = 1\n",
    "f = 0\n",
    "images_dict = dict()\n",
    "for i in range(len(images)):\n",
    "    # sml_imges = np.full((tagged[i].shape[0],10,10,4),np.nan)\n",
    "    sml_imges,sml_imges_point_loc = get_small_images_around_points(image_index=i,z_span=z_span+spot_max_delta_z,xy_span=xy_span+spot_max_delta_xy,assert_size=False)\n",
    "    centers = []\n",
    "    spot_imgs = []\n",
    "    for sml_img in sml_imges:\n",
    "        x,y,z = sml_img.shape[0]//2,sml_img.shape[1]//2,sml_img.shape[2]//2\n",
    "        sz_xy,sz_z = spot_max_delta_xy,spot_max_delta_z\n",
    "        spot_region = sml_img[x-sz_xy:x+sz_xy+1,y-sz_xy:y+sz_xy+1,z-sz_z:z+sz_z+1]\n",
    "        xc,yc,zc = np.where(spot_region >= np.max(spot_region))\n",
    "        xc = xc[0] + x - sz_xy\n",
    "        yc = yc[0] + y - sz_xy\n",
    "        zc = zc[0] + z - sz_z\n",
    "        centers.append([xc,yc,zc])\n",
    "        sz_xy,sz_z = xy_span,z_span\n",
    "        spot_image = sml_img[xc-sz_xy:xc+sz_xy+1,yc-sz_xy:yc+sz_xy+1,zc-sz_z:zc+sz_z+1]\n",
    "        if np.shape(spot_image) != (sz_xy*2+1,sz_xy*2+1,sz_z*2+1):\n",
    "            continue\n",
    "        spot_imgs.append(spot_image)\n",
    "    images_dict[f\"image_{i+1}\"] = spot_imgs\n",
    "    _,axes = plt.subplots(5,5)\n",
    "    axes = axes.flatten()\n",
    "    for j in range(len(axes)):\n",
    "        if j >= len(spot_imgs):\n",
    "            break\n",
    "        spot_img = spot_imgs[j]\n",
    "        axes[j].imshow(np.max(spot_img,axis=-1),cmap=\"gray\")\n",
    "        x,y,z = spot_img.shape[0]//2,spot_img.shape[1]//2,spot_img.shape[2]//2\n",
    "        axes[j].plot(x+1,y+1,\".r\",alpha=0.3)\n",
    "        f += 1\n",
    "    \n",
    "print(f)\n",
    "# scipy.io.savemat(\"spots_images.mat\",images_dict)\n",
    "            "
   ]
  }
 ],
 "metadata": {
  "kernelspec": {
   "display_name": "Python 3",
   "language": "python",
   "name": "python3"
  },
  "language_info": {
   "codemirror_mode": {
    "name": "ipython",
    "version": 3
   },
   "file_extension": ".py",
   "mimetype": "text/x-python",
   "name": "python",
   "nbconvert_exporter": "python",
   "pygments_lexer": "ipython3",
   "version": "3.10.1"
  },
  "orig_nbformat": 4
 },
 "nbformat": 4,
 "nbformat_minor": 2
}
