{
 "cells": [
  {
   "cell_type": "code",
   "execution_count": null,
   "metadata": {},
   "outputs": [],
   "source": [
    "from importlib import reload\n",
    "import numpy as np\n",
    "import numpy.typing as npt\n",
    "import matplotlib.pyplot as plt\n",
    "\n",
    "# np.random.seed(0)\n",
    "\n",
    "import os,sys\n",
    "try:\n",
    "    import this_is_root\n",
    "except:\n",
    "    os.chdir(os.path.pardir) # change workdir to be root dir\n",
    "    sys.path.insert(0, os.path.realpath(\".\"))\n",
    "\n",
    "from create_training_data.training_data_generator import TrainingDataGenerator"
   ]
  },
  {
   "cell_type": "code",
   "execution_count": null,
   "metadata": {},
   "outputs": [],
   "source": [
    "a = TrainingDataGenerator.make_default_training_data_generator(5)\n",
    "images,tags = a.get_next_batch()"
   ]
  },
  {
   "cell_type": "code",
   "execution_count": null,
   "metadata": {},
   "outputs": [],
   "source": [
    "for i in range(len(images)):\n",
    "    fig,axes = plt.subplots(1,3,figsize=(20,10))\n",
    "    axes = axes.flatten()\n",
    "    from image_loader.image2tiff import save_numpy_to_image_file\n",
    "    save_numpy_to_image_file(images[i],f\"{i}.tif\")\n",
    "    for ch_index in range(images[i].shape[-1]):\n",
    "        axes[ch_index].imshow(np.max(images[i][...,ch_index],axis=-1),cmap=\"gray\")\n",
    "        tag_indexes = tags[i][:,3] == ch_index\n",
    "        axes[ch_index].plot(tags[i][tag_indexes,1],tags[i][tag_indexes,0],\".r\")\n",
    "        axes[ch_index].set_title(f\"channel={ch_index}\")"
   ]
  },
  {
   "cell_type": "code",
   "execution_count": null,
   "metadata": {},
   "outputs": [],
   "source": [
    "images[0].shape"
   ]
  }
 ],
 "metadata": {
  "kernelspec": {
   "display_name": "Python 3",
   "language": "python",
   "name": "python3"
  },
  "language_info": {
   "codemirror_mode": {
    "name": "ipython",
    "version": 3
   },
   "file_extension": ".py",
   "mimetype": "text/x-python",
   "name": "python",
   "nbconvert_exporter": "python",
   "pygments_lexer": "ipython3",
   "version": "3.11.3"
  },
  "orig_nbformat": 4
 },
 "nbformat": 4,
 "nbformat_minor": 2
}
