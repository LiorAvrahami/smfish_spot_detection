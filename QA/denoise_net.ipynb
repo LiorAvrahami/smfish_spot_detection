{
 "cells": [
  {
   "cell_type": "code",
   "execution_count": 2,
   "metadata": {},
   "outputs": [
    {
     "data": {
      "text/plain": [
       "<matplotlib.image.AxesImage at 0x20f91eb1420>"
      ]
     },
     "execution_count": 2,
     "metadata": {},
     "output_type": "execute_result"
    },
    {
     "data": {
      "image/png": "[encoded data removed]",
      "text/plain": [
       "<Figure size 432x288 with 1 Axes>"
      ]
     },
     "metadata": {
      "needs_background": "light"
     },
     "output_type": "display_data"
    },
    {
     "data": {
      "image/png": "[encoded data removed]",
      "text/plain": [
       "<Figure size 432x288 with 1 Axes>"
      ]
     },
     "metadata": {
      "needs_background": "light"
     },
     "output_type": "display_data"
    },
    {
     "data": {
      "image/png": "[encoded data removed]",
      "text/plain": [
       "<Figure size 432x288 with 1 Axes>"
      ]
     },
     "metadata": {
      "needs_background": "light"
     },
     "output_type": "display_data"
    },
    {
     "data": {
      "image/png": "[encoded data removed]",
      "text/plain": [
       "<Figure size 432x288 with 1 Axes>"
      ]
     },
     "metadata": {
      "needs_background": "light"
     },
     "output_type": "display_data"
    },
    {
     "data": {
      "image/png": "[encoded data removed]",
      "text/plain": [
       "<Figure size 432x288 with 1 Axes>"
      ]
     },
     "metadata": {
      "needs_background": "light"
     },
     "output_type": "display_data"
    },
    {
     "data": {
      "image/png": "[encoded data removed]",
      "text/plain": [
       "<Figure size 432x288 with 1 Axes>"
      ]
     },
     "metadata": {
      "needs_background": "light"
     },
     "output_type": "display_data"
    }
   ],
   "source": [
    "import os,sys\n",
    "\n",
    "from matplotlib import pyplot as plt\n",
    "import numpy as np\n",
    "\n",
    "try:\n",
    "    import this_is_root\n",
    "except:\n",
    "    os.chdir(os.path.pardir) # change workdir to be root dir\n",
    "    sys.path.insert(0, os.path.realpath(\".\"))\n",
    "\n",
    "from regions_of_interest_module.regions_of_interest import find_points_of_interest\n",
    "from regions_of_interest_module.get_regions_of_interest_from_net import get_default_denoise_net, get_regions_of_interest_generator_from_net    \n",
    "from noise_reduction.use_denoise_net import clean_image\n",
    "from image_loader.load_tagged_image import load_tagged_image\n",
    "\n",
    "denoise_net = get_default_denoise_net()\n",
    "image,tags = load_tagged_image(os.path.join(\"images\\\\tagged_images_validation\", \"img2\"))\n",
    "imaget = image.transpose(1, 0, 2, 3)\n",
    "\n",
    "image_clean = clean_image(image,denoise_net)\n",
    "roi = find_points_of_interest(image_clean)\n",
    "\n",
    "imaget_clean = clean_image(imaget,denoise_net)\n",
    "roit = find_points_of_interest(imaget_clean)\n",
    "\n",
    "plt.imshow(np.max(image[115:125,75:85,1:2,0],axis=-1),cmap=\"gray\")\n",
    "plt.figure()\n",
    "plt.imshow(np.max(image_clean[115:125,75:85,1:2,0],axis=-1),cmap=\"gray\")\n",
    "plt.figure()\n",
    "plt.imshow(np.max(roi[115:125,75:85,1:2,0],axis=-1),cmap=\"gray\")\n",
    "plt.figure()\n",
    "plt.imshow(np.max(imaget[75:85,115:125,1:2,0],axis=-1),cmap=\"gray\")\n",
    "plt.figure()\n",
    "plt.imshow(np.max(imaget_clean[75:85,115:125,1:2,0],axis=-1),cmap=\"gray\")\n",
    "plt.figure()\n",
    "plt.imshow(np.max(roit[75:85,115:125,1:2,0],axis=-1),cmap=\"gray\")\n"
   ]
  },
  {
   "cell_type": "code",
   "execution_count": 27,
   "metadata": {},
   "outputs": [
    {
     "data": {
      "text/plain": [
       "True"
      ]
     },
     "execution_count": 27,
     "metadata": {},
     "output_type": "execute_result"
    }
   ],
   "source": [
    "roit[79,118,1,0]"
   ]
  },
  {
   "cell_type": "code",
   "execution_count": 25,
   "metadata": {},
   "outputs": [
    {
     "data": {
      "text/plain": [
       "array([[121.2       ,  54.10909091,   1.        ,   0.        ],\n",
       "       [127.01818182,  68.09090909,   1.        ,   0.        ],\n",
       "       [ 99.71818182,  86.23636364,   1.        ,   0.        ],\n",
       "       [ 78.90909091, 117.53636364,   1.        ,   0.        ],\n",
       "       [102.21818182,  59.43636364,   1.        ,   0.        ],\n",
       "       [ 98.71818182,  52.60909091,   1.        ,   0.        ],\n",
       "       [128.85454545,  32.62727273,   1.        ,   0.        ],\n",
       "       [ 17.31818182, 117.7       ,   1.        ,   0.        ]])"
      ]
     },
     "execution_count": 25,
     "metadata": {},
     "output_type": "execute_result"
    }
   ],
   "source": [
    "tags[tags[:,2] == 1]"
   ]
  }
 ],
 "metadata": {
  "kernelspec": {
   "display_name": "Python 3",
   "language": "python",
   "name": "python3"
  },
  "language_info": {
   "codemirror_mode": {
    "name": "ipython",
    "version": 3
   },
   "file_extension": ".py",
   "mimetype": "text/x-python",
   "name": "python",
   "nbconvert_exporter": "python",
   "pygments_lexer": "ipython3",
   "version": "3.10.1"
  },
  "orig_nbformat": 4
 },
 "nbformat": 4,
 "nbformat_minor": 2
}
